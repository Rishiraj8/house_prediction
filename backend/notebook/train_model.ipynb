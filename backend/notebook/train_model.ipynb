{
 "cells": [
  {
   "cell_type": "code",
   "execution_count": 1,
   "metadata": {},
   "outputs": [
    {
     "name": "stdout",
     "output_type": "stream",
     "text": [
      "0    1.461900e+04\n",
      "1    5.388063e+05\n",
      "2    3.672294e+05\n",
      "3    7.800000e+04\n",
      "4    3.200000e+05\n",
      "5    4.500000e+05\n",
      "6    6.450000e+05\n",
      "7    7.700000e+06\n",
      "Name: Price, dtype: float64\n",
      "Training R² Score: 0.8944\n",
      "Testing R² Score: 0.5146\n"
     ]
    }
   ],
   "source": [
    "import os\n",
    "import pandas as pd\n",
    "import numpy as np\n",
    "from sklearn.model_selection import train_test_split\n",
    "from sklearn.preprocessing import StandardScaler\n",
    "from sklearn.ensemble import RandomForestRegressor\n",
    "import pickle\n",
    "\n",
    "# Load the dataset\n",
    "df = pd.read_csv('house_data.csv')\n",
    "print(df[\"Price\"].describe().reset_index()[\"Price\"])\n",
    "round(df[\"Price\"].describe().reset_index()[\"Price\"], 2)\n",
    "\n",
    "# Select features for prediction\n",
    "features = ['number of bedrooms', 'number of bathrooms', 'living area', \n",
    "           'condition of the house', 'Number of schools nearby']\n",
    "\n",
    "X = df[features]\n",
    "y = df['Price']\n",
    "\n",
    "# Split the data\n",
    "X_train, X_test, y_train, y_test = train_test_split(X, y, test_size=0.2, random_state=42)\n",
    "\n",
    "# Scale the features\n",
    "scaler = StandardScaler()\n",
    "X_train_scaled = scaler.fit_transform(X_train)\n",
    "X_test_scaled = scaler.transform(X_test)\n",
    "\n",
    "# Train the model\n",
    "rf_model = RandomForestRegressor(n_estimators=100, random_state=42)\n",
    "rf_model.fit(X_train_scaled, y_train)\n",
    "\n",
    "# Ensure the main 'model' directory exists (at the correct location)\n",
    "os.makedirs(r'D:\\House\\backend\\model', exist_ok=True)\n",
    "\n",
    "# Save the model and scaler into the main 'model' folder\n",
    "with open(r'D:\\House\\backend\\model\\house_price_model.pkl', 'wb') as file:\n",
    "    pickle.dump(rf_model, file)\n",
    "\n",
    "with open(r'D:\\House\\backend\\model\\scaler.pkl', 'wb') as file:\n",
    "    pickle.dump(scaler, file)\n",
    "\n",
    "# Print model performance\n",
    "train_score = rf_model.score(X_train_scaled, y_train)\n",
    "test_score = rf_model.score(X_test_scaled, y_test)\n",
    "print(f\"Training R² Score: {train_score:.4f}\")\n",
    "print(f\"Testing R² Score: {test_score:.4f}\")\n"
   ]
  },
  {
   "cell_type": "code",
   "execution_count": null,
   "metadata": {},
   "outputs": [],
   "source": []
  }
 ],
 "metadata": {
  "kernelspec": {
   "display_name": "Python 3",
   "language": "python",
   "name": "python3"
  },
  "language_info": {
   "codemirror_mode": {
    "name": "ipython",
    "version": 3
   },
   "file_extension": ".py",
   "mimetype": "text/x-python",
   "name": "python",
   "nbconvert_exporter": "python",
   "pygments_lexer": "ipython3",
   "version": "3.10.6"
  }
 },
 "nbformat": 4,
 "nbformat_minor": 2
}
